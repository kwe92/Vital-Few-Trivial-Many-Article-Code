{
 "cells": [
  {
   "cell_type": "markdown",
   "id": "f3279978",
   "metadata": {},
   "source": [
    "# Imports"
   ]
  },
  {
   "cell_type": "code",
   "execution_count": 1,
   "id": "b8bb32a3",
   "metadata": {},
   "outputs": [],
   "source": [
    "import numpy as np\n",
    "import pandas as pd\n",
    "import matplotlib.pyplot as plt\n",
    "import seaborn as sns\n",
    "from matplotlib.ticker import PercentFormatter"
   ]
  },
  {
   "cell_type": "code",
   "execution_count": 2,
   "id": "a46b18e9",
   "metadata": {},
   "outputs": [],
   "source": [
    "def round2(x):\n",
    "    xr = round(x,2)\n",
    "    return xr"
   ]
  },
  {
   "cell_type": "markdown",
   "id": "1b6059fa",
   "metadata": {},
   "source": [
    "# Extract Data"
   ]
  },
  {
   "cell_type": "code",
   "execution_count": 3,
   "id": "21e15d13",
   "metadata": {},
   "outputs": [],
   "source": [
    "compData = pd.read_csv('complaints-2022-02-12_11_08.csv')"
   ]
  },
  {
   "cell_type": "markdown",
   "id": "22d37858",
   "metadata": {},
   "source": [
    "# Exploritory Data Analysis"
   ]
  },
  {
   "cell_type": "code",
   "execution_count": 4,
   "id": "f6112854",
   "metadata": {},
   "outputs": [
    {
     "name": "stdout",
     "output_type": "stream",
     "text": [
      "<class 'pandas.core.frame.DataFrame'>\n",
      "RangeIndex: 64440 entries, 0 to 64439\n",
      "Data columns (total 18 columns):\n",
      " #   Column                        Non-Null Count  Dtype  \n",
      "---  ------                        --------------  -----  \n",
      " 0   Date received                 64440 non-null  object \n",
      " 1   Product                       64440 non-null  object \n",
      " 2   Sub-product                   64440 non-null  object \n",
      " 3   Issue                         64440 non-null  object \n",
      " 4   Sub-issue                     64440 non-null  object \n",
      " 5   Consumer complaint narrative  3463 non-null   object \n",
      " 6   Company public response       64440 non-null  object \n",
      " 7   Company                       64440 non-null  object \n",
      " 8   State                         64440 non-null  object \n",
      " 9   ZIP code                      64440 non-null  object \n",
      " 10  Tags                          64440 non-null  object \n",
      " 11  Consumer consent provided?    60219 non-null  object \n",
      " 12  Submitted via                 64440 non-null  object \n",
      " 13  Date sent to company          64440 non-null  object \n",
      " 14  Company response to consumer  64440 non-null  object \n",
      " 15  Timely response?              64440 non-null  object \n",
      " 16  Consumer disputed?            0 non-null      float64\n",
      " 17  Complaint ID                  64440 non-null  int64  \n",
      "dtypes: float64(1), int64(1), object(16)\n",
      "memory usage: 8.8+ MB\n"
     ]
    }
   ],
   "source": [
    "compData.info()"
   ]
  },
  {
   "cell_type": "code",
   "execution_count": 5,
   "id": "8489d78a",
   "metadata": {},
   "outputs": [
    {
     "data": {
      "text/html": [
       "<div>\n",
       "<style scoped>\n",
       "    .dataframe tbody tr th:only-of-type {\n",
       "        vertical-align: middle;\n",
       "    }\n",
       "\n",
       "    .dataframe tbody tr th {\n",
       "        vertical-align: top;\n",
       "    }\n",
       "\n",
       "    .dataframe thead th {\n",
       "        text-align: right;\n",
       "    }\n",
       "</style>\n",
       "<table border=\"1\" class=\"dataframe\">\n",
       "  <thead>\n",
       "    <tr style=\"text-align: right;\">\n",
       "      <th></th>\n",
       "      <th>Date received</th>\n",
       "      <th>Product</th>\n",
       "      <th>Sub-product</th>\n",
       "      <th>Issue</th>\n",
       "      <th>Sub-issue</th>\n",
       "      <th>Consumer complaint narrative</th>\n",
       "      <th>Company public response</th>\n",
       "      <th>Company</th>\n",
       "      <th>State</th>\n",
       "      <th>ZIP code</th>\n",
       "      <th>Tags</th>\n",
       "      <th>Consumer consent provided?</th>\n",
       "      <th>Submitted via</th>\n",
       "      <th>Date sent to company</th>\n",
       "      <th>Company response to consumer</th>\n",
       "      <th>Timely response?</th>\n",
       "      <th>Consumer disputed?</th>\n",
       "      <th>Complaint ID</th>\n",
       "    </tr>\n",
       "  </thead>\n",
       "  <tbody>\n",
       "    <tr>\n",
       "      <th>0</th>\n",
       "      <td>02/05/22</td>\n",
       "      <td>Credit reporting, credit repair services, or o...</td>\n",
       "      <td>Credit reporting</td>\n",
       "      <td>Problem with a credit reporting company's inve...</td>\n",
       "      <td>Was not notified of investigation status or re...</td>\n",
       "      <td>NaN</td>\n",
       "      <td>None</td>\n",
       "      <td>EQUIFAX, INC.</td>\n",
       "      <td>IL</td>\n",
       "      <td>60429</td>\n",
       "      <td>None</td>\n",
       "      <td>None</td>\n",
       "      <td>Web</td>\n",
       "      <td>02/05/22</td>\n",
       "      <td>Closed with explanation</td>\n",
       "      <td>Yes</td>\n",
       "      <td>NaN</td>\n",
       "      <td>5189815</td>\n",
       "    </tr>\n",
       "    <tr>\n",
       "      <th>1</th>\n",
       "      <td>02/03/22</td>\n",
       "      <td>Credit reporting, credit repair services, or o...</td>\n",
       "      <td>Credit reporting</td>\n",
       "      <td>Problem with a credit reporting company's inve...</td>\n",
       "      <td>Investigation took more than 30 days</td>\n",
       "      <td>NaN</td>\n",
       "      <td>None</td>\n",
       "      <td>EQUIFAX, INC.</td>\n",
       "      <td>NJ</td>\n",
       "      <td>07203</td>\n",
       "      <td>None</td>\n",
       "      <td>None</td>\n",
       "      <td>Web</td>\n",
       "      <td>02/03/22</td>\n",
       "      <td>Closed with explanation</td>\n",
       "      <td>Yes</td>\n",
       "      <td>NaN</td>\n",
       "      <td>5181709</td>\n",
       "    </tr>\n",
       "    <tr>\n",
       "      <th>2</th>\n",
       "      <td>01/25/22</td>\n",
       "      <td>Debt collection</td>\n",
       "      <td>Medical debt</td>\n",
       "      <td>Communication tactics</td>\n",
       "      <td>Used obscene, profane, or other abusive language</td>\n",
       "      <td>NaN</td>\n",
       "      <td>Company disputes the facts presented in the co...</td>\n",
       "      <td>Professional Finance Company, Inc.</td>\n",
       "      <td>NM</td>\n",
       "      <td>87501</td>\n",
       "      <td>None</td>\n",
       "      <td>None</td>\n",
       "      <td>Web</td>\n",
       "      <td>01/25/22</td>\n",
       "      <td>Closed with non-monetary relief</td>\n",
       "      <td>Yes</td>\n",
       "      <td>NaN</td>\n",
       "      <td>5150633</td>\n",
       "    </tr>\n",
       "  </tbody>\n",
       "</table>\n",
       "</div>"
      ],
      "text/plain": [
       "  Date received                                            Product  \\\n",
       "0      02/05/22  Credit reporting, credit repair services, or o...   \n",
       "1      02/03/22  Credit reporting, credit repair services, or o...   \n",
       "2      01/25/22                                    Debt collection   \n",
       "\n",
       "        Sub-product                                              Issue  \\\n",
       "0  Credit reporting  Problem with a credit reporting company's inve...   \n",
       "1  Credit reporting  Problem with a credit reporting company's inve...   \n",
       "2      Medical debt                              Communication tactics   \n",
       "\n",
       "                                           Sub-issue  \\\n",
       "0  Was not notified of investigation status or re...   \n",
       "1               Investigation took more than 30 days   \n",
       "2   Used obscene, profane, or other abusive language   \n",
       "\n",
       "  Consumer complaint narrative  \\\n",
       "0                          NaN   \n",
       "1                          NaN   \n",
       "2                          NaN   \n",
       "\n",
       "                             Company public response  \\\n",
       "0                                               None   \n",
       "1                                               None   \n",
       "2  Company disputes the facts presented in the co...   \n",
       "\n",
       "                              Company State ZIP code  Tags  \\\n",
       "0                       EQUIFAX, INC.    IL    60429  None   \n",
       "1                       EQUIFAX, INC.    NJ    07203  None   \n",
       "2  Professional Finance Company, Inc.    NM    87501  None   \n",
       "\n",
       "  Consumer consent provided? Submitted via Date sent to company  \\\n",
       "0                       None           Web             02/05/22   \n",
       "1                       None           Web             02/03/22   \n",
       "2                       None           Web             01/25/22   \n",
       "\n",
       "      Company response to consumer Timely response?  Consumer disputed?  \\\n",
       "0          Closed with explanation              Yes                 NaN   \n",
       "1          Closed with explanation              Yes                 NaN   \n",
       "2  Closed with non-monetary relief              Yes                 NaN   \n",
       "\n",
       "   Complaint ID  \n",
       "0       5189815  \n",
       "1       5181709  \n",
       "2       5150633  "
      ]
     },
     "execution_count": 5,
     "metadata": {},
     "output_type": "execute_result"
    }
   ],
   "source": [
    "compData.head(3)"
   ]
  },
  {
   "cell_type": "markdown",
   "id": "b80f713d",
   "metadata": {},
   "source": [
    "# Filter TX Data"
   ]
  },
  {
   "cell_type": "code",
   "execution_count": 6,
   "id": "63e228d8",
   "metadata": {
    "scrolled": true
   },
   "outputs": [
    {
     "data": {
      "text/plain": [
       "array(['IL', 'NJ', 'NM', 'FL', 'KS', 'CA', 'TX', 'GA', 'VA', 'NY', 'OH',\n",
       "       'DE', 'MS', 'PA', 'LA', 'MI', 'NC', 'AZ', 'AL', 'MD', 'TN', 'CO',\n",
       "       'WI', 'IN', 'MN', 'UT', 'OR', 'MA', 'CT', 'None', 'SC', 'WV', 'MO',\n",
       "       'WA', 'ID', 'RI', 'DC', 'OK', 'NV', 'ME', 'NE', 'PR', 'KY', 'AR',\n",
       "       'NH', 'VI', 'IA', 'HI', 'ND', 'SD', 'GU', 'AP', 'WY', 'VT', 'MT',\n",
       "       'AK', 'AE', 'UNITED STATES MINOR OUTLYING ISLANDS', 'MP'],\n",
       "      dtype=object)"
      ]
     },
     "execution_count": 6,
     "metadata": {},
     "output_type": "execute_result"
    }
   ],
   "source": [
    "compData.State.unique()"
   ]
  },
  {
   "cell_type": "code",
   "execution_count": 7,
   "id": "38ff5fba",
   "metadata": {},
   "outputs": [],
   "source": [
    "texCompData = compData[compData['State'] == 'TX'].copy()"
   ]
  },
  {
   "cell_type": "markdown",
   "id": "8867d17b",
   "metadata": {},
   "source": [
    "# Create Frequency Table"
   ]
  },
  {
   "cell_type": "code",
   "execution_count": 8,
   "id": "b2eb1359",
   "metadata": {},
   "outputs": [],
   "source": [
    "freqTable = (\n",
    "                pd.crosstab(index = texCompData['Issue'],\n",
    "                columns = 'Absolute Frequency')\n",
    "                .sort_values(by = 'Absolute Frequency',ascending=False)\n",
    "            )"
   ]
  },
  {
   "cell_type": "markdown",
   "id": "81468af6",
   "metadata": {},
   "source": [
    "# Check The Count of Unique Issues"
   ]
  },
  {
   "cell_type": "code",
   "execution_count": 9,
   "id": "d24b65fc",
   "metadata": {},
   "outputs": [
    {
     "data": {
      "text/plain": [
       "63"
      ]
     },
     "execution_count": 9,
     "metadata": {},
     "output_type": "execute_result"
    }
   ],
   "source": [
    "len(freqTable.index)"
   ]
  },
  {
   "cell_type": "markdown",
   "id": "1be28077",
   "metadata": {},
   "source": [
    "# Calcuate Relative Frequency"
   ]
  },
  {
   "cell_type": "code",
   "execution_count": 10,
   "id": "6887404c",
   "metadata": {},
   "outputs": [],
   "source": [
    "freqTable['Relative Frequency'] = (\n",
    "                                    freqTable['Absolute Frequency']\n",
    "                                  / sum(freqTable['Absolute Frequency']) \n",
    "                                  * 100\n",
    "                                  )"
   ]
  },
  {
   "cell_type": "markdown",
   "id": "dfba934a",
   "metadata": {},
   "source": [
    "# Condense Issues"
   ]
  },
  {
   "cell_type": "code",
   "execution_count": 11,
   "id": "c23f2346",
   "metadata": {},
   "outputs": [],
   "source": [
    "lenOfOthers = len(freqTable[freqTable['Relative Frequency'] < 0.71].values)"
   ]
  },
  {
   "cell_type": "code",
   "execution_count": 12,
   "id": "89657b06",
   "metadata": {},
   "outputs": [],
   "source": [
    "others = sum(freqTable[freqTable['Relative Frequency'] < 0.71].values)"
   ]
  },
  {
   "cell_type": "markdown",
   "id": "f6e785b0",
   "metadata": {},
   "source": [
    "# Filter Issue DataFrame"
   ]
  },
  {
   "cell_type": "code",
   "execution_count": 13,
   "id": "c50d9daf",
   "metadata": {},
   "outputs": [],
   "source": [
    "freqTable2 = freqTable[freqTable['Relative Frequency'] > 0.71].copy()"
   ]
  },
  {
   "cell_type": "markdown",
   "id": "6a682c67",
   "metadata": {},
   "source": [
    "# Add Others Row to Exising DataFrame"
   ]
  },
  {
   "cell_type": "code",
   "execution_count": 14,
   "id": "102d63c6",
   "metadata": {},
   "outputs": [],
   "source": [
    "freqTable2.loc[len(freqTable2)] = others"
   ]
  },
  {
   "cell_type": "markdown",
   "id": "ddda2fa0",
   "metadata": {},
   "source": [
    "# Rename Index"
   ]
  },
  {
   "cell_type": "code",
   "execution_count": 15,
   "id": "b8c16f03",
   "metadata": {},
   "outputs": [],
   "source": [
    "freqTable2.rename(index={len(freqTable2) - 1: 'Others'}, inplace = True)"
   ]
  },
  {
   "cell_type": "markdown",
   "id": "8425c05d",
   "metadata": {},
   "source": [
    "# Calculate Cumulative Frequency"
   ]
  },
  {
   "cell_type": "code",
   "execution_count": 16,
   "id": "5d44db3d",
   "metadata": {},
   "outputs": [],
   "source": [
    "freqTable2['Cumulative Frequency'] = freqTable2['Relative Frequency'].cumsum()"
   ]
  },
  {
   "cell_type": "markdown",
   "id": "f3ffb2fc",
   "metadata": {},
   "source": [
    "# Create Issue ID Column"
   ]
  },
  {
   "cell_type": "code",
   "execution_count": 17,
   "id": "b934e8d3",
   "metadata": {},
   "outputs": [],
   "source": [
    "freqTable2.insert(0,'Issue ID',np.arange(1,len(freqTable2) + 1))"
   ]
  },
  {
   "cell_type": "markdown",
   "id": "cf617394",
   "metadata": {},
   "source": [
    "# Visualize Frequency Table"
   ]
  },
  {
   "cell_type": "code",
   "execution_count": 18,
   "id": "c3004084",
   "metadata": {},
   "outputs": [],
   "source": [
    "freqTable2 = freqTable2.apply(round2,axis=1)"
   ]
  },
  {
   "cell_type": "code",
   "execution_count": 19,
   "id": "a1914bfe",
   "metadata": {},
   "outputs": [],
   "source": [
    "freqTable2 = freqTable2.astype({'Issue ID':int,\n",
    "                                'Absolute Frequency':int})"
   ]
  },
  {
   "cell_type": "code",
   "execution_count": 20,
   "id": "f78da87a",
   "metadata": {},
   "outputs": [
    {
     "data": {
      "text/html": [
       "<div>\n",
       "<style scoped>\n",
       "    .dataframe tbody tr th:only-of-type {\n",
       "        vertical-align: middle;\n",
       "    }\n",
       "\n",
       "    .dataframe tbody tr th {\n",
       "        vertical-align: top;\n",
       "    }\n",
       "\n",
       "    .dataframe thead th {\n",
       "        text-align: right;\n",
       "    }\n",
       "</style>\n",
       "<table border=\"1\" class=\"dataframe\">\n",
       "  <thead>\n",
       "    <tr style=\"text-align: right;\">\n",
       "      <th>col_0</th>\n",
       "      <th>Issue ID</th>\n",
       "      <th>Absolute Frequency</th>\n",
       "      <th>Relative Frequency</th>\n",
       "      <th>Cumulative Frequency</th>\n",
       "    </tr>\n",
       "    <tr>\n",
       "      <th>Issue</th>\n",
       "      <th></th>\n",
       "      <th></th>\n",
       "      <th></th>\n",
       "      <th></th>\n",
       "    </tr>\n",
       "  </thead>\n",
       "  <tbody>\n",
       "    <tr>\n",
       "      <th>Incorrect information on your report</th>\n",
       "      <td>1</td>\n",
       "      <td>3462</td>\n",
       "      <td>46.17</td>\n",
       "      <td>46.17</td>\n",
       "    </tr>\n",
       "    <tr>\n",
       "      <th>Problem with a credit reporting company's investigation into an existing problem</th>\n",
       "      <td>2</td>\n",
       "      <td>1944</td>\n",
       "      <td>25.93</td>\n",
       "      <td>72.10</td>\n",
       "    </tr>\n",
       "    <tr>\n",
       "      <th>Improper use of your report</th>\n",
       "      <td>3</td>\n",
       "      <td>484</td>\n",
       "      <td>6.46</td>\n",
       "      <td>78.55</td>\n",
       "    </tr>\n",
       "    <tr>\n",
       "      <th>Attempts to collect debt not owed</th>\n",
       "      <td>4</td>\n",
       "      <td>338</td>\n",
       "      <td>4.51</td>\n",
       "      <td>83.06</td>\n",
       "    </tr>\n",
       "    <tr>\n",
       "      <th>Written notification about debt</th>\n",
       "      <td>5</td>\n",
       "      <td>200</td>\n",
       "      <td>2.67</td>\n",
       "      <td>85.73</td>\n",
       "    </tr>\n",
       "    <tr>\n",
       "      <th>Managing an account</th>\n",
       "      <td>6</td>\n",
       "      <td>137</td>\n",
       "      <td>1.83</td>\n",
       "      <td>87.56</td>\n",
       "    </tr>\n",
       "    <tr>\n",
       "      <th>Trouble during payment process</th>\n",
       "      <td>7</td>\n",
       "      <td>79</td>\n",
       "      <td>1.05</td>\n",
       "      <td>88.61</td>\n",
       "    </tr>\n",
       "    <tr>\n",
       "      <th>Unable to get your credit report or credit score</th>\n",
       "      <td>8</td>\n",
       "      <td>68</td>\n",
       "      <td>0.91</td>\n",
       "      <td>89.52</td>\n",
       "    </tr>\n",
       "    <tr>\n",
       "      <th>False statements or representation</th>\n",
       "      <td>9</td>\n",
       "      <td>59</td>\n",
       "      <td>0.79</td>\n",
       "      <td>90.30</td>\n",
       "    </tr>\n",
       "    <tr>\n",
       "      <th>Others</th>\n",
       "      <td>10</td>\n",
       "      <td>727</td>\n",
       "      <td>9.70</td>\n",
       "      <td>100.00</td>\n",
       "    </tr>\n",
       "  </tbody>\n",
       "</table>\n",
       "</div>"
      ],
      "text/plain": [
       "col_0                                               Issue ID  \\\n",
       "Issue                                                          \n",
       "Incorrect information on your report                       1   \n",
       "Problem with a credit reporting company's inves...         2   \n",
       "Improper use of your report                                3   \n",
       "Attempts to collect debt not owed                          4   \n",
       "Written notification about debt                            5   \n",
       "Managing an account                                        6   \n",
       "Trouble during payment process                             7   \n",
       "Unable to get your credit report or credit score           8   \n",
       "False statements or representation                         9   \n",
       "Others                                                    10   \n",
       "\n",
       "col_0                                               Absolute Frequency  \\\n",
       "Issue                                                                    \n",
       "Incorrect information on your report                              3462   \n",
       "Problem with a credit reporting company's inves...                1944   \n",
       "Improper use of your report                                        484   \n",
       "Attempts to collect debt not owed                                  338   \n",
       "Written notification about debt                                    200   \n",
       "Managing an account                                                137   \n",
       "Trouble during payment process                                      79   \n",
       "Unable to get your credit report or credit score                    68   \n",
       "False statements or representation                                  59   \n",
       "Others                                                             727   \n",
       "\n",
       "col_0                                               Relative Frequency  \\\n",
       "Issue                                                                    \n",
       "Incorrect information on your report                             46.17   \n",
       "Problem with a credit reporting company's inves...               25.93   \n",
       "Improper use of your report                                       6.46   \n",
       "Attempts to collect debt not owed                                 4.51   \n",
       "Written notification about debt                                   2.67   \n",
       "Managing an account                                               1.83   \n",
       "Trouble during payment process                                    1.05   \n",
       "Unable to get your credit report or credit score                  0.91   \n",
       "False statements or representation                                0.79   \n",
       "Others                                                            9.70   \n",
       "\n",
       "col_0                                               Cumulative Frequency  \n",
       "Issue                                                                     \n",
       "Incorrect information on your report                               46.17  \n",
       "Problem with a credit reporting company's inves...                 72.10  \n",
       "Improper use of your report                                        78.55  \n",
       "Attempts to collect debt not owed                                  83.06  \n",
       "Written notification about debt                                    85.73  \n",
       "Managing an account                                                87.56  \n",
       "Trouble during payment process                                     88.61  \n",
       "Unable to get your credit report or credit score                   89.52  \n",
       "False statements or representation                                 90.30  \n",
       "Others                                                            100.00  "
      ]
     },
     "execution_count": 20,
     "metadata": {},
     "output_type": "execute_result"
    }
   ],
   "source": [
    "freqTable2"
   ]
  },
  {
   "cell_type": "markdown",
   "id": "1fdb9040",
   "metadata": {},
   "source": [
    "# Create Color List"
   ]
  },
  {
   "cell_type": "code",
   "execution_count": 21,
   "id": "ad1e7175",
   "metadata": {},
   "outputs": [],
   "source": [
    "clrs = ['orange' if x == 'Others' else 'Green' for x in freqTable2.index]"
   ]
  },
  {
   "cell_type": "markdown",
   "id": "dd26ee4a",
   "metadata": {},
   "source": [
    "# Visualize The Data"
   ]
  },
  {
   "cell_type": "code",
   "execution_count": 23,
   "id": "f65450f8",
   "metadata": {},
   "outputs": [
    {
     "data": {
      "image/png": "[encoded data removed]",
      "text/plain": [
       "<Figure size 720x432 with 2 Axes>"
      ]
     },
     "metadata": {
      "needs_background": "light"
     },
     "output_type": "display_data"
    }
   ],
   "source": [
    "fig, ax = plt.subplots(figsize=(10,6))\n",
    "ax.bar(x= freqTable2['Issue ID'], height=freqTable2['Absolute Frequency'], color=clrs)\n",
    "ax.set_xlabel('Issues')\n",
    "ax.set_ylabel('Count')\n",
    "ax2 = ax.twinx()\n",
    "ax2.yaxis.set_major_formatter(PercentFormatter())\n",
    "ax2.plot(freqTable2['Issue ID'], freqTable2['Cumulative Frequency'], marker='d', color='blue')\n",
    "plt.title('Pareto of Issues')\n",
    "plt.xticks(ticks = np.arange(min(freqTable2['Issue ID'].values),max(freqTable2['Issue ID'].values) + 1))\n",
    "plt.xticks(rotation=25)\n",
    "plt.show()"
   ]
  },
  {
   "cell_type": "code",
   "execution_count": 22,
   "id": "72806e40",
   "metadata": {
    "scrolled": true
   },
   "outputs": [
    {
     "data": {
      "image/png": "[encoded data removed]",
      "text/plain": [
       "<Figure size 720x432 with 2 Axes>"
      ]
     },
     "metadata": {
      "needs_background": "light"
     },
     "output_type": "display_data"
    }
   ],
   "source": [
    "fig, ax = plt.subplots(figsize=(10,6))\n",
    "ax.bar(x= freqTable2['Issue ID'], height=freqTable2['Absolute Frequency'], color=clrs)\n",
    "ax.set_xlabel('Issues')\n",
    "ax.set_ylabel('Count')\n",
    "ax2 = ax.twinx()\n",
    "ax2.yaxis.set_major_formatter(PercentFormatter())\n",
    "ax2.plot(freqTable2['Issue ID'], freqTable2['Cumulative Frequency'], marker='d', color='blue')\n",
    "plt.plot(freqTable2['Issue ID'], (80,80,80,80,80,80,80,80,80,80),color='blue')\n",
    "plt.title('Pareto of Issues')\n",
    "plt.xticks(ticks = np.arange(min(freqTable2['Issue ID'].values),max(freqTable2['Issue ID'].values) + 1))\n",
    "plt.xticks(rotation=25)\n",
    "plt.show()"
   ]
  },
  {
   "cell_type": "code",
   "execution_count": null,
   "id": "c95be94d",
   "metadata": {},
   "outputs": [],
   "source": []
  },
  {
   "cell_type": "code",
   "execution_count": null,
   "id": "5e06763a",
   "metadata": {},
   "outputs": [],
   "source": []
  },
  {
   "cell_type": "code",
   "execution_count": null,
   "id": "7527d673",
   "metadata": {},
   "outputs": [],
   "source": []
  },
  {
   "cell_type": "code",
   "execution_count": null,
   "id": "7ea058bd",
   "metadata": {},
   "outputs": [],
   "source": []
  }
 ],
 "metadata": {
  "kernelspec": {
   "display_name": "Python 3 (ipykernel)",
   "language": "python",
   "name": "python3"
  },
  "language_info": {
   "codemirror_mode": {
    "name": "ipython",
    "version": 3
   },
   "file_extension": ".py",
   "mimetype": "text/x-python",
   "name": "python",
   "nbconvert_exporter": "python",
   "pygments_lexer": "ipython3",
   "version": "3.9.7"
  }
 },
 "nbformat": 4,
 "nbformat_minor": 5
}
